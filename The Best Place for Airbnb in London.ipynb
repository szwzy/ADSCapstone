{
    "cells": [
        {
            "cell_type": "markdown",
            "metadata": {},
            "source": "import packages"
        },
        {
            "cell_type": "code",
            "execution_count": 1,
            "metadata": {},
            "outputs": [],
            "source": "import requests\nfrom bs4 import BeautifulSoup\nimport pandas as pd"
        },
        {
            "cell_type": "markdown",
            "metadata": {},
            "source": "create a beautiful soup object"
        },
        {
            "cell_type": "code",
            "execution_count": 2,
            "metadata": {},
            "outputs": [],
            "source": "url = \"https://en.wikipedia.org/wiki/List_of_London_boroughs\"\nhtml_data = requests.get(url).text\nsoup = BeautifulSoup(html_data, 'html.parser')"
        },
        {
            "cell_type": "markdown",
            "metadata": {},
            "source": "get data into a list"
        },
        {
            "cell_type": "code",
            "execution_count": 3,
            "metadata": {},
            "outputs": [],
            "source": "table_contents = []\ntable = soup.find('table')\nfor row in table.findAll('td'):\n    cell = {}\n    if row.span == None:\n        pass\n    elif row.span.text.split(\"(\")[0] =='Y':\n        pass\n    else: \n        cell['Borough'] = row.span.text.split(\"/\")[2].split(\"(\")[1].strip(')')\n        cell['Latitude'] = float(row.span.text.split(\"/\")[2].split(\"(\")[0][:8])\n        cell['Longitude'] = row.span.text.split(\"/\")[2].split(\";\")[1].split(' ')[1][:-1]\n        table_contents.append(cell)\n"
        },
        {
            "cell_type": "markdown",
            "metadata": {},
            "source": "convert data into a dataframe"
        },
        {
            "cell_type": "code",
            "execution_count": 4,
            "metadata": {},
            "outputs": [],
            "source": "df = pd.DataFrame(table_contents)\nnew_row = {'Borough': 'City of London', 'Latitude': 51.5155, 'Longitude': -0.0922 }\ndf_london = df.append(new_row, ignore_index = True)"
        },
        {
            "cell_type": "code",
            "execution_count": 5,
            "metadata": {},
            "outputs": [
                {
                    "data": {
                        "text/html": "<div>\n<style scoped>\n    .dataframe tbody tr th:only-of-type {\n        vertical-align: middle;\n    }\n\n    .dataframe tbody tr th {\n        vertical-align: top;\n    }\n\n    .dataframe thead th {\n        text-align: right;\n    }\n</style>\n<table border=\"1\" class=\"dataframe\">\n  <thead>\n    <tr style=\"text-align: right;\">\n      <th></th>\n      <th>Borough</th>\n      <th>Latitude</th>\n      <th>Longitude</th>\n    </tr>\n  </thead>\n  <tbody>\n    <tr>\n      <th>0</th>\n      <td>Barking and Dagenham</td>\n      <td>51.5607</td>\n      <td>0.1557</td>\n    </tr>\n    <tr>\n      <th>1</th>\n      <td>Barnet</td>\n      <td>51.6252</td>\n      <td>-0.1517</td>\n    </tr>\n    <tr>\n      <th>2</th>\n      <td>Bexley</td>\n      <td>51.4549</td>\n      <td>0.1505</td>\n    </tr>\n    <tr>\n      <th>3</th>\n      <td>Brent</td>\n      <td>51.5588</td>\n      <td>-0.2817</td>\n    </tr>\n    <tr>\n      <th>4</th>\n      <td>Bromley</td>\n      <td>51.4039</td>\n      <td>0.0198</td>\n    </tr>\n    <tr>\n      <th>5</th>\n      <td>Camden</td>\n      <td>51.5290</td>\n      <td>-0.1255</td>\n    </tr>\n    <tr>\n      <th>6</th>\n      <td>Croydon</td>\n      <td>51.3714</td>\n      <td>-0.0977</td>\n    </tr>\n    <tr>\n      <th>7</th>\n      <td>Ealing</td>\n      <td>51.5130</td>\n      <td>-0.3089</td>\n    </tr>\n    <tr>\n      <th>8</th>\n      <td>Enfield</td>\n      <td>51.6538</td>\n      <td>-0.0799</td>\n    </tr>\n    <tr>\n      <th>9</th>\n      <td>Greenwich</td>\n      <td>51.4892</td>\n      <td>0.0648</td>\n    </tr>\n    <tr>\n      <th>10</th>\n      <td>Hackney</td>\n      <td>51.5450</td>\n      <td>-0.0553</td>\n    </tr>\n    <tr>\n      <th>11</th>\n      <td>Hammersmith and Fulham</td>\n      <td>51.4927</td>\n      <td>-0.2339</td>\n    </tr>\n    <tr>\n      <th>12</th>\n      <td>Haringey</td>\n      <td>51.6000</td>\n      <td>-0.1119</td>\n    </tr>\n    <tr>\n      <th>13</th>\n      <td>Harrow</td>\n      <td>51.5898</td>\n      <td>-0.3346</td>\n    </tr>\n    <tr>\n      <th>14</th>\n      <td>Havering</td>\n      <td>51.5812</td>\n      <td>0.1837</td>\n    </tr>\n    <tr>\n      <th>15</th>\n      <td>Hillingdon</td>\n      <td>51.5441</td>\n      <td>-0.4760</td>\n    </tr>\n    <tr>\n      <th>16</th>\n      <td>Hounslow</td>\n      <td>51.4746</td>\n      <td>-0.3680</td>\n    </tr>\n    <tr>\n      <th>17</th>\n      <td>Islington</td>\n      <td>51.5416</td>\n      <td>-0.1022</td>\n    </tr>\n    <tr>\n      <th>18</th>\n      <td>Kensington and Chelsea</td>\n      <td>51.5020</td>\n      <td>-0.1947</td>\n    </tr>\n    <tr>\n      <th>19</th>\n      <td>Kingston upon Thames</td>\n      <td>51.4085</td>\n      <td>-0.3064</td>\n    </tr>\n    <tr>\n      <th>20</th>\n      <td>Lambeth</td>\n      <td>51.4607</td>\n      <td>-0.1163</td>\n    </tr>\n    <tr>\n      <th>21</th>\n      <td>Lewisham</td>\n      <td>51.4452</td>\n      <td>-0.0209</td>\n    </tr>\n    <tr>\n      <th>22</th>\n      <td>Merton</td>\n      <td>51.4014</td>\n      <td>-0.1958</td>\n    </tr>\n    <tr>\n      <th>23</th>\n      <td>Newham</td>\n      <td>51.5077</td>\n      <td>0.0469</td>\n    </tr>\n    <tr>\n      <th>24</th>\n      <td>Redbridge</td>\n      <td>51.5590</td>\n      <td>0.0741</td>\n    </tr>\n    <tr>\n      <th>25</th>\n      <td>Richmond upon Thames</td>\n      <td>51.4479</td>\n      <td>-0.3260</td>\n    </tr>\n    <tr>\n      <th>26</th>\n      <td>Southwark</td>\n      <td>51.5035</td>\n      <td>-0.0804</td>\n    </tr>\n    <tr>\n      <th>27</th>\n      <td>Sutton</td>\n      <td>51.3618</td>\n      <td>-0.1945</td>\n    </tr>\n    <tr>\n      <th>28</th>\n      <td>Tower Hamlets</td>\n      <td>51.5099</td>\n      <td>-0.0059</td>\n    </tr>\n    <tr>\n      <th>29</th>\n      <td>Waltham Forest</td>\n      <td>51.5908</td>\n      <td>-0.0134</td>\n    </tr>\n    <tr>\n      <th>30</th>\n      <td>Wandsworth</td>\n      <td>51.4567</td>\n      <td>-0.1910</td>\n    </tr>\n    <tr>\n      <th>31</th>\n      <td>Westminster</td>\n      <td>51.4973</td>\n      <td>-0.1372</td>\n    </tr>\n    <tr>\n      <th>32</th>\n      <td>City of London</td>\n      <td>51.5155</td>\n      <td>-0.0922</td>\n    </tr>\n  </tbody>\n</table>\n</div>",
                        "text/plain": "                   Borough  Latitude Longitude\n0     Barking and Dagenham   51.5607    0.1557\n1                   Barnet   51.6252   -0.1517\n2                   Bexley   51.4549    0.1505\n3                    Brent   51.5588   -0.2817\n4                  Bromley   51.4039    0.0198\n5                   Camden   51.5290   -0.1255\n6                  Croydon   51.3714   -0.0977\n7                   Ealing   51.5130   -0.3089\n8                  Enfield   51.6538   -0.0799\n9                Greenwich   51.4892    0.0648\n10                 Hackney   51.5450   -0.0553\n11  Hammersmith and Fulham   51.4927   -0.2339\n12                Haringey   51.6000   -0.1119\n13                  Harrow   51.5898   -0.3346\n14                Havering   51.5812    0.1837\n15              Hillingdon   51.5441   -0.4760\n16                Hounslow   51.4746   -0.3680\n17               Islington   51.5416   -0.1022\n18  Kensington and Chelsea   51.5020   -0.1947\n19    Kingston upon Thames   51.4085   -0.3064\n20                 Lambeth   51.4607   -0.1163\n21                Lewisham   51.4452   -0.0209\n22                  Merton   51.4014   -0.1958\n23                  Newham   51.5077    0.0469\n24               Redbridge   51.5590    0.0741\n25    Richmond upon Thames   51.4479   -0.3260\n26               Southwark   51.5035   -0.0804\n27                  Sutton   51.3618   -0.1945\n28           Tower Hamlets   51.5099   -0.0059\n29          Waltham Forest   51.5908   -0.0134\n30              Wandsworth   51.4567   -0.1910\n31             Westminster   51.4973   -0.1372\n32          City of London   51.5155   -0.0922"
                    },
                    "execution_count": 5,
                    "metadata": {},
                    "output_type": "execute_result"
                }
            ],
            "source": "\ndf_london"
        },
        {
            "cell_type": "code",
            "execution_count": 6,
            "metadata": {},
            "outputs": [
                {
                    "data": {
                        "text/plain": "(33, 3)"
                    },
                    "execution_count": 6,
                    "metadata": {},
                    "output_type": "execute_result"
                }
            ],
            "source": "df_london.shape"
        },
        {
            "cell_type": "markdown",
            "metadata": {},
            "source": "## Define foursquare credential"
        },
        {
            "cell_type": "code",
            "execution_count": 7,
            "metadata": {},
            "outputs": [
                {
                    "name": "stdout",
                    "output_type": "stream",
                    "text": "My credentails:\nCLIENT_ID: PTBQE2DOOJIFNTKH5YLSOCAWN1AS3EWCINOX0BUH30FH5E0V\nCLIENT_SECRET:IRVTNCASERYLWAVUBRMEO1AAYQAIG4VK13U5FU2CWZVSZLSZ\n"
                }
            ],
            "source": "CLIENT_ID = 'PTBQE2DOOJIFNTKH5YLSOCAWN1AS3EWCINOX0BUH30FH5E0V' # Foursquare ID\nCLIENT_SECRET = 'IRVTNCASERYLWAVUBRMEO1AAYQAIG4VK13U5FU2CWZVSZLSZ' #  Foursquare Secret\nVERSION = '20180605' # Foursquare API version\nLIMIT = 100 # A default Foursquare API limit value\n\nprint('My credentails:')\nprint('CLIENT_ID: ' + CLIENT_ID)\nprint('CLIENT_SECRET:' + CLIENT_SECRET)"
        },
        {
            "cell_type": "markdown",
            "metadata": {},
            "source": "## "
        },
        {
            "cell_type": "markdown",
            "metadata": {},
            "source": "## Create a function to get venues"
        },
        {
            "cell_type": "code",
            "execution_count": 8,
            "metadata": {},
            "outputs": [],
            "source": "def getNearbyVenues(names, latitudes, longitudes, radius=1000):\n    \n    venues_list=[]\n    for name, lat, lng in zip(names, latitudes, longitudes):\n        print(name)\n            \n        # create the API request URL\n        url = 'https://api.foursquare.com/v2/venues/explore?&client_id={}&client_secret={}&v={}&ll={},{}&radius={}&limit={}'.format(\n            CLIENT_ID, \n            CLIENT_SECRET, \n            VERSION, \n            lat, \n            lng, \n            radius, \n            LIMIT)\n            \n        # make the GET request\n        results = requests.get(url).json()[\"response\"]['groups'][0]['items']\n        \n        # return only relevant information for each nearby venue\n        venues_list.append([(\n            name, \n            lat, \n            lng, \n            v['venue']['name'], \n            v['venue']['location']['lat'], \n            v['venue']['location']['lng'],  \n            v['venue']['categories'][0]['name']) for v in results])\n\n    nearby_venues = pd.DataFrame([item for venue_list in venues_list for item in venue_list])\n    nearby_venues.columns = ['Neighborhood', \n                  'Neighborhood Latitude', \n                  'Neighborhood Longitude', \n                  'Venue', \n                  'Venue Latitude', \n                  'Venue Longitude', \n                  'Venue Category']\n    \n    return(nearby_venues)"
        },
        {
            "cell_type": "markdown",
            "metadata": {},
            "source": "# Get venue"
        },
        {
            "cell_type": "code",
            "execution_count": 9,
            "metadata": {},
            "outputs": [
                {
                    "name": "stdout",
                    "output_type": "stream",
                    "text": "Barking and Dagenham\nBarnet\nBexley\nBrent\nBromley\nCamden\nCroydon\nEaling\nEnfield\nGreenwich\nHackney\nHammersmith and Fulham\nHaringey\nHarrow\nHavering\nHillingdon\nHounslow\nIslington\nKensington and Chelsea\nKingston upon Thames\nLambeth\nLewisham\nMerton\nNewham\nRedbridge\nRichmond upon Thames\nSouthwark\nSutton\nTower Hamlets\nWaltham Forest\nWandsworth\nWestminster\nCity of London\n"
                }
            ],
            "source": "Lon_venues = getNearbyVenues(names=df_london['Borough'],\n                                   latitudes=df_london['Latitude'],\n                                   longitudes=df_london['Longitude'])\n"
        },
        {
            "cell_type": "markdown",
            "metadata": {},
            "source": "Count number of venues in each neighborhood"
        },
        {
            "cell_type": "code",
            "execution_count": 10,
            "metadata": {},
            "outputs": [],
            "source": "London = Lon_venues.groupby('Neighborhood').count().reset_index()"
        },
        {
            "cell_type": "code",
            "execution_count": 11,
            "metadata": {},
            "outputs": [
                {
                    "data": {
                        "text/html": "<div>\n<style scoped>\n    .dataframe tbody tr th:only-of-type {\n        vertical-align: middle;\n    }\n\n    .dataframe tbody tr th {\n        vertical-align: top;\n    }\n\n    .dataframe thead th {\n        text-align: right;\n    }\n</style>\n<table border=\"1\" class=\"dataframe\">\n  <thead>\n    <tr style=\"text-align: right;\">\n      <th></th>\n      <th>Neighborhood</th>\n      <th>Neighborhood Latitude</th>\n      <th>Neighborhood Longitude</th>\n      <th>Venue</th>\n      <th>Venue Latitude</th>\n      <th>Venue Longitude</th>\n      <th>Venue Category</th>\n    </tr>\n  </thead>\n  <tbody>\n    <tr>\n      <th>0</th>\n      <td>Barking and Dagenham</td>\n      <td>15</td>\n      <td>15</td>\n      <td>15</td>\n      <td>15</td>\n      <td>15</td>\n      <td>15</td>\n    </tr>\n    <tr>\n      <th>1</th>\n      <td>Barnet</td>\n      <td>9</td>\n      <td>9</td>\n      <td>9</td>\n      <td>9</td>\n      <td>9</td>\n      <td>9</td>\n    </tr>\n    <tr>\n      <th>2</th>\n      <td>Bexley</td>\n      <td>49</td>\n      <td>49</td>\n      <td>49</td>\n      <td>49</td>\n      <td>49</td>\n      <td>49</td>\n    </tr>\n    <tr>\n      <th>3</th>\n      <td>Brent</td>\n      <td>88</td>\n      <td>88</td>\n      <td>88</td>\n      <td>88</td>\n      <td>88</td>\n      <td>88</td>\n    </tr>\n    <tr>\n      <th>4</th>\n      <td>Bromley</td>\n      <td>60</td>\n      <td>60</td>\n      <td>60</td>\n      <td>60</td>\n      <td>60</td>\n      <td>60</td>\n    </tr>\n  </tbody>\n</table>\n</div>",
                        "text/plain": "           Neighborhood  Neighborhood Latitude  Neighborhood Longitude  Venue  \\\n0  Barking and Dagenham                     15                      15     15   \n1                Barnet                      9                       9      9   \n2                Bexley                     49                      49     49   \n3                 Brent                     88                      88     88   \n4               Bromley                     60                      60     60   \n\n   Venue Latitude  Venue Longitude  Venue Category  \n0              15               15              15  \n1               9                9               9  \n2              49               49              49  \n3              88               88              88  \n4              60               60              60  "
                    },
                    "execution_count": 11,
                    "metadata": {},
                    "output_type": "execute_result"
                }
            ],
            "source": "London.head()"
        },
        {
            "cell_type": "markdown",
            "metadata": {},
            "source": "Load airbnb listing data"
        },
        {
            "cell_type": "code",
            "execution_count": 12,
            "metadata": {},
            "outputs": [],
            "source": "# The code was removed by Watson Studio for sharing."
        },
        {
            "cell_type": "code",
            "execution_count": 13,
            "metadata": {},
            "outputs": [
                {
                    "data": {
                        "text/html": "<div>\n<style scoped>\n    .dataframe tbody tr th:only-of-type {\n        vertical-align: middle;\n    }\n\n    .dataframe tbody tr th {\n        vertical-align: top;\n    }\n\n    .dataframe thead th {\n        text-align: right;\n    }\n</style>\n<table border=\"1\" class=\"dataframe\">\n  <thead>\n    <tr style=\"text-align: right;\">\n      <th></th>\n      <th>neighbourhood_cleansed</th>\n      <th>accommodates</th>\n      <th>price</th>\n    </tr>\n  </thead>\n  <tbody>\n    <tr>\n      <th>0</th>\n      <td>Lambeth</td>\n      <td>4</td>\n      <td>110.0</td>\n    </tr>\n    <tr>\n      <th>1</th>\n      <td>Islington</td>\n      <td>2</td>\n      <td>40.0</td>\n    </tr>\n    <tr>\n      <th>2</th>\n      <td>Kensington and Chelsea</td>\n      <td>2</td>\n      <td>75.0</td>\n    </tr>\n    <tr>\n      <th>3</th>\n      <td>Westminster</td>\n      <td>6</td>\n      <td>307.0</td>\n    </tr>\n    <tr>\n      <th>4</th>\n      <td>Hammersmith and Fulham</td>\n      <td>2</td>\n      <td>150.0</td>\n    </tr>\n  </tbody>\n</table>\n</div>",
                        "text/plain": "   neighbourhood_cleansed  accommodates  price\n0                 Lambeth             4  110.0\n1               Islington             2   40.0\n2  Kensington and Chelsea             2   75.0\n3             Westminster             6  307.0\n4  Hammersmith and Fulham             2  150.0"
                    },
                    "execution_count": 13,
                    "metadata": {},
                    "output_type": "execute_result"
                }
            ],
            "source": "listing.head()"
        },
        {
            "cell_type": "markdown",
            "metadata": {},
            "source": "Calculate price per bed"
        },
        {
            "cell_type": "code",
            "execution_count": 14,
            "metadata": {},
            "outputs": [],
            "source": "listing['price_per_bed'] = listing['price'] / listing['accommodates']"
        },
        {
            "cell_type": "code",
            "execution_count": 15,
            "metadata": {},
            "outputs": [
                {
                    "data": {
                        "text/html": "<div>\n<style scoped>\n    .dataframe tbody tr th:only-of-type {\n        vertical-align: middle;\n    }\n\n    .dataframe tbody tr th {\n        vertical-align: top;\n    }\n\n    .dataframe thead th {\n        text-align: right;\n    }\n</style>\n<table border=\"1\" class=\"dataframe\">\n  <thead>\n    <tr style=\"text-align: right;\">\n      <th></th>\n      <th>neighbourhood_cleansed</th>\n      <th>accommodates</th>\n      <th>price</th>\n      <th>price_per_bed</th>\n    </tr>\n  </thead>\n  <tbody>\n    <tr>\n      <th>0</th>\n      <td>Lambeth</td>\n      <td>4</td>\n      <td>110.0</td>\n      <td>27.500000</td>\n    </tr>\n    <tr>\n      <th>1</th>\n      <td>Islington</td>\n      <td>2</td>\n      <td>40.0</td>\n      <td>20.000000</td>\n    </tr>\n    <tr>\n      <th>2</th>\n      <td>Kensington and Chelsea</td>\n      <td>2</td>\n      <td>75.0</td>\n      <td>37.500000</td>\n    </tr>\n    <tr>\n      <th>3</th>\n      <td>Westminster</td>\n      <td>6</td>\n      <td>307.0</td>\n      <td>51.166667</td>\n    </tr>\n    <tr>\n      <th>4</th>\n      <td>Hammersmith and Fulham</td>\n      <td>2</td>\n      <td>150.0</td>\n      <td>75.000000</td>\n    </tr>\n  </tbody>\n</table>\n</div>",
                        "text/plain": "   neighbourhood_cleansed  accommodates  price  price_per_bed\n0                 Lambeth             4  110.0      27.500000\n1               Islington             2   40.0      20.000000\n2  Kensington and Chelsea             2   75.0      37.500000\n3             Westminster             6  307.0      51.166667\n4  Hammersmith and Fulham             2  150.0      75.000000"
                    },
                    "execution_count": 15,
                    "metadata": {},
                    "output_type": "execute_result"
                }
            ],
            "source": "listing.head()"
        },
        {
            "cell_type": "code",
            "execution_count": 16,
            "metadata": {},
            "outputs": [],
            "source": "listing = listing.groupby('neighbourhood_cleansed').mean().reset_index()\nlisting.rename(columns={\"neighbourhood_cleansed\":\"Neighborhood\"}, inplace=True)"
        },
        {
            "cell_type": "code",
            "execution_count": 17,
            "metadata": {},
            "outputs": [
                {
                    "data": {
                        "text/plain": "Index(['Neighborhood', 'accommodates', 'price', 'price_per_bed'], dtype='object')"
                    },
                    "execution_count": 17,
                    "metadata": {},
                    "output_type": "execute_result"
                }
            ],
            "source": "listing.columns\n"
        },
        {
            "cell_type": "markdown",
            "metadata": {},
            "source": "Combine listing and venue files"
        },
        {
            "cell_type": "code",
            "execution_count": 18,
            "metadata": {},
            "outputs": [],
            "source": "London_merged = London.merge(listing.set_index('Neighborhood'), on='Neighborhood')\n"
        },
        {
            "cell_type": "code",
            "execution_count": 19,
            "metadata": {},
            "outputs": [
                {
                    "data": {
                        "text/html": "<div>\n<style scoped>\n    .dataframe tbody tr th:only-of-type {\n        vertical-align: middle;\n    }\n\n    .dataframe tbody tr th {\n        vertical-align: top;\n    }\n\n    .dataframe thead th {\n        text-align: right;\n    }\n</style>\n<table border=\"1\" class=\"dataframe\">\n  <thead>\n    <tr style=\"text-align: right;\">\n      <th></th>\n      <th>Neighborhood</th>\n      <th>Neighborhood Latitude</th>\n      <th>Neighborhood Longitude</th>\n      <th>Venue</th>\n      <th>Venue Latitude</th>\n      <th>Venue Longitude</th>\n      <th>Venue Category</th>\n      <th>accommodates</th>\n      <th>price</th>\n      <th>price_per_bed</th>\n    </tr>\n  </thead>\n  <tbody>\n    <tr>\n      <th>0</th>\n      <td>Barking and Dagenham</td>\n      <td>15</td>\n      <td>15</td>\n      <td>15</td>\n      <td>15</td>\n      <td>15</td>\n      <td>15</td>\n      <td>2.606516</td>\n      <td>63.922306</td>\n      <td>30.109057</td>\n    </tr>\n    <tr>\n      <th>1</th>\n      <td>Barnet</td>\n      <td>9</td>\n      <td>9</td>\n      <td>9</td>\n      <td>9</td>\n      <td>9</td>\n      <td>9</td>\n      <td>2.939450</td>\n      <td>100.646483</td>\n      <td>48.427835</td>\n    </tr>\n    <tr>\n      <th>2</th>\n      <td>Bexley</td>\n      <td>49</td>\n      <td>49</td>\n      <td>49</td>\n      <td>49</td>\n      <td>49</td>\n      <td>49</td>\n      <td>2.458484</td>\n      <td>57.339350</td>\n      <td>25.657597</td>\n    </tr>\n    <tr>\n      <th>3</th>\n      <td>Brent</td>\n      <td>88</td>\n      <td>88</td>\n      <td>88</td>\n      <td>88</td>\n      <td>88</td>\n      <td>88</td>\n      <td>2.984449</td>\n      <td>97.952484</td>\n      <td>36.348829</td>\n    </tr>\n    <tr>\n      <th>4</th>\n      <td>Bromley</td>\n      <td>60</td>\n      <td>60</td>\n      <td>60</td>\n      <td>60</td>\n      <td>60</td>\n      <td>60</td>\n      <td>2.701599</td>\n      <td>72.701599</td>\n      <td>29.612419</td>\n    </tr>\n  </tbody>\n</table>\n</div>",
                        "text/plain": "           Neighborhood  Neighborhood Latitude  Neighborhood Longitude  Venue  \\\n0  Barking and Dagenham                     15                      15     15   \n1                Barnet                      9                       9      9   \n2                Bexley                     49                      49     49   \n3                 Brent                     88                      88     88   \n4               Bromley                     60                      60     60   \n\n   Venue Latitude  Venue Longitude  Venue Category  accommodates       price  \\\n0              15               15              15      2.606516   63.922306   \n1               9                9               9      2.939450  100.646483   \n2              49               49              49      2.458484   57.339350   \n3              88               88              88      2.984449   97.952484   \n4              60               60              60      2.701599   72.701599   \n\n   price_per_bed  \n0      30.109057  \n1      48.427835  \n2      25.657597  \n3      36.348829  \n4      29.612419  "
                    },
                    "execution_count": 19,
                    "metadata": {},
                    "output_type": "execute_result"
                }
            ],
            "source": "London_merged.head()"
        },
        {
            "cell_type": "code",
            "execution_count": 20,
            "metadata": {},
            "outputs": [
                {
                    "data": {
                        "text/html": "<div>\n<style scoped>\n    .dataframe tbody tr th:only-of-type {\n        vertical-align: middle;\n    }\n\n    .dataframe tbody tr th {\n        vertical-align: top;\n    }\n\n    .dataframe thead th {\n        text-align: right;\n    }\n</style>\n<table border=\"1\" class=\"dataframe\">\n  <thead>\n    <tr style=\"text-align: right;\">\n      <th></th>\n      <th>Neighborhood</th>\n      <th>Venue</th>\n      <th>accommodates</th>\n      <th>price</th>\n      <th>price_per_bed</th>\n    </tr>\n  </thead>\n  <tbody>\n    <tr>\n      <th>0</th>\n      <td>Barking and Dagenham</td>\n      <td>15</td>\n      <td>2.606516</td>\n      <td>63.922306</td>\n      <td>30.109057</td>\n    </tr>\n    <tr>\n      <th>1</th>\n      <td>Barnet</td>\n      <td>9</td>\n      <td>2.939450</td>\n      <td>100.646483</td>\n      <td>48.427835</td>\n    </tr>\n    <tr>\n      <th>2</th>\n      <td>Bexley</td>\n      <td>49</td>\n      <td>2.458484</td>\n      <td>57.339350</td>\n      <td>25.657597</td>\n    </tr>\n    <tr>\n      <th>3</th>\n      <td>Brent</td>\n      <td>88</td>\n      <td>2.984449</td>\n      <td>97.952484</td>\n      <td>36.348829</td>\n    </tr>\n    <tr>\n      <th>4</th>\n      <td>Bromley</td>\n      <td>60</td>\n      <td>2.701599</td>\n      <td>72.701599</td>\n      <td>29.612419</td>\n    </tr>\n  </tbody>\n</table>\n</div>",
                        "text/plain": "           Neighborhood  Venue  accommodates       price  price_per_bed\n0  Barking and Dagenham     15      2.606516   63.922306      30.109057\n1                Barnet      9      2.939450  100.646483      48.427835\n2                Bexley     49      2.458484   57.339350      25.657597\n3                 Brent     88      2.984449   97.952484      36.348829\n4               Bromley     60      2.701599   72.701599      29.612419"
                    },
                    "execution_count": 20,
                    "metadata": {},
                    "output_type": "execute_result"
                }
            ],
            "source": "London_merged.drop(columns=['Neighborhood Latitude' , 'Neighborhood Longitude', 'Venue Latitude', 'Venue Longitude', 'Venue Category'], inplace=True)\n\nLondon_merged.head()"
        },
        {
            "cell_type": "code",
            "execution_count": 21,
            "metadata": {},
            "outputs": [
                {
                    "data": {
                        "text/html": "<div>\n<style scoped>\n    .dataframe tbody tr th:only-of-type {\n        vertical-align: middle;\n    }\n\n    .dataframe tbody tr th {\n        vertical-align: top;\n    }\n\n    .dataframe thead th {\n        text-align: right;\n    }\n</style>\n<table border=\"1\" class=\"dataframe\">\n  <thead>\n    <tr style=\"text-align: right;\">\n      <th></th>\n      <th>Neighborhood</th>\n      <th>Venue</th>\n      <th>accommodates</th>\n      <th>price</th>\n      <th>price_per_bed</th>\n    </tr>\n  </thead>\n  <tbody>\n    <tr>\n      <th>32</th>\n      <td>Westminster</td>\n      <td>100</td>\n      <td>3.390317</td>\n      <td>186.926001</td>\n      <td>58.858879</td>\n    </tr>\n    <tr>\n      <th>19</th>\n      <td>Kensington and Chelsea</td>\n      <td>100</td>\n      <td>3.420190</td>\n      <td>181.939429</td>\n      <td>53.871180</td>\n    </tr>\n    <tr>\n      <th>6</th>\n      <td>City of London</td>\n      <td>100</td>\n      <td>3.066986</td>\n      <td>157.722488</td>\n      <td>53.770455</td>\n    </tr>\n    <tr>\n      <th>1</th>\n      <td>Barnet</td>\n      <td>9</td>\n      <td>2.939450</td>\n      <td>100.646483</td>\n      <td>48.427835</td>\n    </tr>\n    <tr>\n      <th>18</th>\n      <td>Islington</td>\n      <td>100</td>\n      <td>2.997682</td>\n      <td>135.591331</td>\n      <td>47.456859</td>\n    </tr>\n    <tr>\n      <th>5</th>\n      <td>Camden</td>\n      <td>100</td>\n      <td>3.182067</td>\n      <td>133.259035</td>\n      <td>46.974380</td>\n    </tr>\n    <tr>\n      <th>23</th>\n      <td>Merton</td>\n      <td>30</td>\n      <td>2.990909</td>\n      <td>107.325620</td>\n      <td>41.267208</td>\n    </tr>\n    <tr>\n      <th>12</th>\n      <td>Hammersmith and Fulham</td>\n      <td>100</td>\n      <td>3.243267</td>\n      <td>122.923009</td>\n      <td>39.996121</td>\n    </tr>\n    <tr>\n      <th>27</th>\n      <td>Southwark</td>\n      <td>100</td>\n      <td>2.971787</td>\n      <td>105.307933</td>\n      <td>38.845497</td>\n    </tr>\n    <tr>\n      <th>8</th>\n      <td>Ealing</td>\n      <td>100</td>\n      <td>2.778046</td>\n      <td>96.381182</td>\n      <td>38.694530</td>\n    </tr>\n  </tbody>\n</table>\n</div>",
                        "text/plain": "              Neighborhood  Venue  accommodates       price  price_per_bed\n32             Westminster    100      3.390317  186.926001      58.858879\n19  Kensington and Chelsea    100      3.420190  181.939429      53.871180\n6           City of London    100      3.066986  157.722488      53.770455\n1                   Barnet      9      2.939450  100.646483      48.427835\n18               Islington    100      2.997682  135.591331      47.456859\n5                   Camden    100      3.182067  133.259035      46.974380\n23                  Merton     30      2.990909  107.325620      41.267208\n12  Hammersmith and Fulham    100      3.243267  122.923009      39.996121\n27               Southwark    100      2.971787  105.307933      38.845497\n8                   Ealing    100      2.778046   96.381182      38.694530"
                    },
                    "execution_count": 21,
                    "metadata": {},
                    "output_type": "execute_result"
                }
            ],
            "source": "London_sorted = London_merged.sort_values(['price_per_bed', 'Venue'], ascending=[False, False])\nLondon_sorted.head(10)"
        },
        {
            "cell_type": "code",
            "execution_count": null,
            "metadata": {},
            "outputs": [],
            "source": ""
        },
        {
            "cell_type": "code",
            "execution_count": null,
            "metadata": {},
            "outputs": [],
            "source": ""
        }
    ],
    "metadata": {
        "interpreter": {
            "hash": "b3ba2566441a7c06988d0923437866b63cedc61552a5af99d1f4fb67d367b25f"
        },
        "kernelspec": {
            "display_name": "Python 3.7",
            "language": "python",
            "name": "python3"
        },
        "language_info": {
            "codemirror_mode": {
                "name": "ipython",
                "version": 3
            },
            "file_extension": ".py",
            "mimetype": "text/x-python",
            "name": "python",
            "nbconvert_exporter": "python",
            "pygments_lexer": "ipython3",
            "version": "3.7.10"
        }
    },
    "nbformat": 4,
    "nbformat_minor": 1
}